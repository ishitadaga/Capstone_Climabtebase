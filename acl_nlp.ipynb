{
 "cells": [
  {
   "cell_type": "code",
   "execution_count": 14,
   "metadata": {},
   "outputs": [],
   "source": [
    "import pdfreader\n",
    "from pdfreader import PDFDocument, SimplePDFViewer\n",
    "import os\n",
    "# import fitz \n",
    "import pdfplumber\n",
    "from collections import Counter\n"
   ]
  },
  {
   "cell_type": "code",
   "execution_count": 2,
   "metadata": {},
   "outputs": [],
   "source": [
    "path = \"/Users/ishitadaga/Downloads/Capstone Climabtebase/Aratina Solar DEIR Vol 1 Chapters 1-10.pdf\"\n",
    "# from io import BytesIO\n",
    "# with open(\"/Users/ishitadaga/Downloads/Capstone Climabtebase/Aratina Solar DEIR Vol 1 Chapters 1-10.pdf\", \"rb\") as f:\n",
    "#     stream = BytesIO(f.read())\n",
    "# doc2 = PDFDocument(stream)"
   ]
  },
  {
   "cell_type": "code",
   "execution_count": 16,
   "metadata": {},
   "outputs": [],
   "source": [
    "import PyPDF2\n",
    "\n",
    "def extract_sections_from_pdf(pdf_path, start_page, end_page):\n",
    "    # Open the PDF file\n",
    "    with open(pdf_path, 'rb') as file:\n",
    "        # Create a PDF reader object\n",
    "        pdf_reader = PyPDF2.PdfReader(file)\n",
    "        all_sections = []\n",
    "        # Initialize an empty string to store the extracted text\n",
    "        extracted_text = \"\"\n",
    "        \n",
    "        # Iterate through each page of the PDF\n",
    "        for page_num in range(start_page - 1, end_page):\n",
    "            # Get the page object\n",
    "            page = pdf_reader.pages[page_num]\n",
    "            \n",
    "            # Extract text from the page\n",
    "            page_text = page.extract_text()\n",
    "\n",
    "            \n",
    "            lines = page_text.split('\\n')\n",
    "            for line in lines:\n",
    "                if line.strip():\n",
    "                    if \"greenhouse\" in line.lower():\n",
    "                        section = (line.split())[1]\n",
    "\n",
    "            # all_sections.extend(sections)\n",
    "            # Append the extracted text to the overall extracted_text\n",
    "            extracted_text = page_text\n",
    "        # print(all_sections)\n",
    "        # Return the extracted text\n",
    "        return extracted_text"
   ]
  },
  {
   "cell_type": "code",
   "execution_count": 29,
   "metadata": {},
   "outputs": [],
   "source": [
    "pdf_path = \"/Users/ishitadaga/Downloads/Capstone Climabtebase/Aratina Solar DEIR Vol 1 Chapters 1-10.pdf\"\n",
    "start_page = 30  # Start page number\n",
    "end_page = 37 "
   ]
  },
  {
   "cell_type": "code",
   "execution_count": 30,
   "metadata": {},
   "outputs": [
    {
     "name": "stdout",
     "output_type": "stream",
     "text": [
      "['Section', '4.8', 'Greenhouse', 'Gas', 'Emissions', '................................', '................................', '..', '4.8-1']\n"
     ]
    }
   ],
   "source": [
    "extracted_text = extract_sections_from_pdf(pdf_path, start_page, end_page)\n"
   ]
  },
  {
   "cell_type": "code",
   "execution_count": 35,
   "metadata": {},
   "outputs": [
    {
     "name": "stdout",
     "output_type": "stream",
     "text": [
      "GPA 6; ZC 6, CUP 16, CUP 17 Map 192  \n",
      "WO #PP20401 (EIR - Aratina Solar  2.0) \n",
      "I:\\Planning \\WORKGRPS \\WP\\LABELS \\\n",
      "EIR05 -19JJ.nop.doc  \n",
      "Sc  07/29/20   City of Arvin  \n",
      "P.O. Box 548  \n",
      "Arvin, CA  93203   Bakersfield City Planning Dept  \n",
      "1715 Ches ter Avenue  \n",
      "Bakersfield, CA 93301  \n",
      "Bakersfield City Public Works Dept  \n",
      "1501 Truxtun Avenue  \n",
      "Bakersfield, CA 93301   California City Planning Dept  \n",
      "21000 Hacienda Blvd.  \n",
      "California City, CA 93515   Delano City Planning Dept  \n",
      "P.O. Box 3010  \n",
      "Delano, CA  93216  \n",
      "City o f Maricopa  \n",
      "P.O. Box 548  \n",
      "Maricopa, CA  93252   City of McFarland  \n",
      "401 West Kern Avenue  \n",
      "McFarland, CA  93250   City of Ridgecrest  \n",
      "100 West California Avenue  \n",
      "Ridgecrest, CA 93555  \n",
      "City of Shafter  \n",
      "336 Pacific Avenue  \n",
      "Shafter, CA  93263   City of Taft  \n",
      "Planning & Bui lding  \n",
      "209 E ast Kern Street  \n",
      "Taft, CA  93268   City of Tehachapi  \n",
      "Attn:  John Schlosser  \n",
      "115 South Robinson Street  \n",
      "Tehachapi, CA  93561 -1722  \n",
      "City of Wasco  \n",
      "764 E Street  \n",
      "Wasco, CA  93280   Inyo County Planning Dept  \n",
      "P.O. Drawer \"L\"  \n",
      "Independence, CA  93526   Kings C ounty Plann ing Agency  \n",
      "1400 West Lacey Blvd, Bldg 6  \n",
      "Hanford, CA  93230  \n",
      "Los Angeles Co Reg Planning Dept  \n",
      "320 West Temple Street  \n",
      "Los Angeles, CA  90012   San Bernardino Co Planning Dept  \n",
      "385 North Arrowhead Avenue, 1st Floor  \n",
      "San Bernardino, CA  92415 -0182   San Luis Obisp o Co Planning Dept  \n",
      "Planning and Building  \n",
      "976 Osos Street  \n",
      "San Luis Obispo, CA  93408  \n",
      "Santa Barbara Co Resource Mgt Dept  \n",
      "123 East Anapamu Street  \n",
      "Santa Barbara, CA  93101   Tulare County Planning & Dev Dept  \n",
      "5961 South Mooney Boulevard  \n",
      "Visalia, CA  93291   Vent ura County RMA Planning Div  \n",
      "800 South Victoria Avenue, L1740  \n",
      "Ventura, CA  93009 -1740  \n",
      "U.S. Bureau of Land Management  \n",
      "Ridgecrest Field Office  \n",
      "300 South Richmond Road  \n",
      "Ridgecrest, CA  93555   China Lake Naval Weapons Center  \n",
      "Comm Plans  & Liaison  \n",
      "429 E Bowen, Building 981  \n",
      "Mail Stop 4001  \n",
      "China Lake, CA  93555   Edwards AFB, Mission Sustainability \n",
      "Liaison  \n",
      "412 TW, Bldg 2750, Ste 117 -14 \n",
      "195 East Popson Avenue  \n",
      "Edwards AFB, CA 93524  \n",
      "Federal Aviation Administration  \n",
      "Western Reg Office/  \n",
      "777 South  Aviation B oulevard \n",
      "Suite 150  \n",
      "El Segundo, CA 90245   Federal Communications Comm  \n",
      "18000 Studebaker Road, #660  \n",
      "Cerritos, CA  90701   U.S. Fish & Wildlife Service  \n",
      "777 East Tahquitz Canyon Way, Suite 208  \n",
      "Palm Springs, CA  92262  \n",
      "Eastern Kern Resource Cons Dist  \n",
      "300 South Ri chmo nd Road  \n",
      "Ridgecrest, CA  93555 -4436   Environmental Protection Agency  \n",
      "Region IX Office  \n",
      "75 Hawthorn Street  \n",
      "San Francisco, CA  94105   U.S. Dept of Agriculture/NRCS  \n",
      "5080 California Avenue, Ste 150  \n",
      "Bakersfield, CA 93309 -0711  \n"
     ]
    }
   ],
   "source": [
    "print(extracted_text)"
   ]
  },
  {
   "cell_type": "code",
   "execution_count": 17,
   "metadata": {},
   "outputs": [
    {
     "ename": "ModuleNotFoundError",
     "evalue": "No module named 'PDFSegmenter'",
     "output_type": "error",
     "traceback": [
      "\u001b[0;31m---------------------------------------------------------------------------\u001b[0m",
      "\u001b[0;31mModuleNotFoundError\u001b[0m                       Traceback (most recent call last)",
      "\u001b[0;32m<ipython-input-17-72b052f8e62d>\u001b[0m in \u001b[0;36m<module>\u001b[0;34m\u001b[0m\n\u001b[0;32m----> 1\u001b[0;31m \u001b[0;32mimport\u001b[0m \u001b[0mPDFSegmenter\u001b[0m\u001b[0;34m\u001b[0m\u001b[0;34m\u001b[0m\u001b[0m\n\u001b[0m\u001b[1;32m      2\u001b[0m \u001b[0msegmenter\u001b[0m \u001b[0;34m=\u001b[0m \u001b[0mPDFSegmenter\u001b[0m\u001b[0;34m(\u001b[0m\u001b[0mpath\u001b[0m\u001b[0;34m)\u001b[0m\u001b[0;34m\u001b[0m\u001b[0;34m\u001b[0m\u001b[0m\n",
      "\u001b[0;31mModuleNotFoundError\u001b[0m: No module named 'PDFSegmenter'"
     ]
    }
   ],
   "source": [
    "import PDFSegmenter\n",
    "segmenter = PDFSegmenter(path)"
   ]
  },
  {
   "cell_type": "code",
   "execution_count": 18,
   "metadata": {},
   "outputs": [],
   "source": [
    "import io\n",
    "import re\n",
    "from pdfminer.high_level import extract_text"
   ]
  },
  {
   "cell_type": "code",
   "execution_count": 31,
   "metadata": {},
   "outputs": [],
   "source": []
  },
  {
   "cell_type": "code",
   "execution_count": 20,
   "metadata": {},
   "outputs": [
    {
     "name": "stdout",
     "output_type": "stream",
     "text": [
      "[]\n",
      "[]\n",
      "[]\n",
      "[]\n",
      "[[['Emission Inventory\\nCategory', '2009', '2010', '2011', '2012', '2013', '2014', '2015', '2016', '2017', '% of 2017\\ntonnage'], ['Transportation', '170.20', '165.13', '161.76', '161.31', '160.91', '162.53', '166.18', '168.76', '169.86', '40.05%'], ['Electricity Generation\\n(In State)', '53.33', '46.75', '41.10', '51.02', '49.42', '51.68', '49.88', '42.28', '38.45', '9.07%'], ['Electricity Generation\\n(Imports)', '48.04', '43.59', '46.87', '44.50', '39.98', '36.79', '33.93', '26.32', '23.94', '5.65%'], ['Commercial', '12.89', '13.58', '13.71', '13.41', '13.30', '12.52', '12.67', '13.14', '13.02', '3.4%'], ['Industrial', '87.90', '91.50', '90.17', '91.08', '93.69', '94.02', '91.48', '89.49', '89.40', '21.08%'], ['Residential', '29.32', '30.06', '30.51', '28.21', '29.02', '23.75', '24.17', '25.27', '26.00', '6.30%'], ['Agriculture', '32.85', '33.68', '34.34', '35.46', '33.99', '35.06', '33.75', '33.51', '32.42', '7.64%'], ['High Global Warming\\nPotential', '12.29', '13.52', '14.53', '15.51', '16.75', '17.73', '18.60', '19.26', '19.99', '4.71%'], ['Recycling and Waste', '8.27', '8.37', '8.47', '8.49', '8.52', '8.59', '8.73', '8.81', '8.89', '2.10%'], ['Total Gross Emissions', '457.3', '448.5', '443.6', '451.2', '447.7', '444.7', '441.4', '429.0', '424.1', '100%'], ['Source: CARB 2019', None, None, None, None, None, None, None, None, None, None]], [['Sector', 'Emissions (MTCO2e)', 'Percent of Total'], ['Electricity Consumption', '8,572,261', '31'], ['Residential/Commercial/Industrial Combustion', '1,689,414', '6'], ['Transportation', '4,823,756', '18'], ['Fossil Fuels Industry', '7,002,009', '26'], ['Industrial Processes', '2,348,754', '9'], ['Waste Management', '146,788', '1'], ['Agriculture Fugitives', '2,652,616', '10'], ['Forestry and Land Use', '14,669', '<1'], ['Other Sources', '22,442', '<1'], ['Total', '27,272,709', '-'], ['Notes: MTCO2e = metric tons carbon dioxide equivalent\\nSource: San Joaquin Valley Air Pollution Control District 2012', None, None]]]\n",
      "[]\n",
      "[]\n",
      "[]\n",
      "[]\n",
      "[]\n",
      "[]\n",
      "[]\n",
      "[]\n",
      "[]\n",
      "[]\n",
      "[]\n",
      "[]\n",
      "[]\n",
      "[]\n",
      "[[['Year', 'Site Number', 'Construction Emissions (MTCO2e)', None, None, None, None], [None, None, 'Off-Road', 'On-Site Mobile', 'Off-Site Mobile', 'Water Use', 'Total'], ['2021', '1', '99', '0.5', '125', '5', '229'], [None, '2', '254', '1.4', '321', '13', '589'], [None, '3', '171', '1.0', '216', '9', '397'], [None, '4', '117', '0.7', '148', '6', '272'], [None, '5', '67', '0.4', '84', '4', '155'], [None, 'Subtotal', '708', '3.9', '895', '36', '1,642'], ['2022', '1', '513', '1.6', '452', '2', '968'], [None, '2', '1,318', '4.0', '1,161', '4', '2,487'], [None, '3', '889', '2.7', '784', '3', '1,678'], [None, '4', '609', '1.9', '537', '2', '1,149'], [None, '5', '346', '1.1', '305', '1', '654'], [None, 'Subtotal', '3,675', '11.2', '3,239', '12', '6,937'], ['Total Construction', None, '4,383', '15.1', '4,133', '48', '8,578'], ['Construction and\\nDecommissioning', None, '8,765', '30', '8,267', '95', '17,157'], ['Amortized Emissions\\n(30-year life)', None, '292', '1', '276', '3', '572'], ['Source: Rincon 2021; see Appendix C-1.', None, None, None, None, None, None]]]\n",
      "[[['Site Number', 'Operational Emissions (MTCO2e)', None, None, None, None], [None, 'Off-Road', 'On-Site Mobile', 'Off-Site Mobile', 'Water Use', 'Total'], ['1', '<0.1', '3', '30', '3', '36'], ['2', '<0.1', '7', '78', '7', '92'], ['3', '<0.1', '5', '53', '5', '62'], ['4', '<0.1', '3', '36', '3', '43'], ['5', '<0.1', '2', '20', '2', '24'], ['Subtotal', '<0.1', '20', '217', '20', '257'], ['Amortized Construction and\\nDecommissioning Emissions', '292', '1', '276', '3', '572'], ['Annual Total', '292', '21', '493', '23', '829'], ['Annual Displaced GHG\\nEmissions (MT/year)', '318,611', None, None, None, None], ['Net Annual GHG Emissions\\n(MT/year)', '-317,782', None, None, None, None], ['Source: Rincon 2021; see Appendix C-1.', None, None, None, None, None]]]\n",
      "[[['Strategy Project Design/Mitigation to Comply with Strategy'], ['Vehicle Climate Change Standards: AB 1493 (Pavley) required the These are CARB enforced standards; vehicles that\\nState to develop and adopt regulations that achieve the maximum access the project and are required to comply with the\\nfeasible and cost-effective reduction of climate change emissions standards would comply with these strategies.\\nemitted by passenger vehicles and light duty trucks. Regulations were\\nadopted by CARB in September 2004.\\nOther Light Duty Vehicle Technology: New standards would be\\nadopted to phase in beginning in the 2017 model.\\nHeavy-Duty Vehicle Emission Reduction Measures: Increased\\nefficiency in the design of heavy-duty vehicles and an education\\nprogram for the heavy-duty vehicle sector.'], ['Diesel Anti-Idling: In July 2004, CARB adopted a measure to limit Project would be subject to State law.\\ndiesel-fueled commercial motor vehicle idling.'], ['Hydrofluorocarbon Reduction: (1) Ban retail sale of HFC in small This measure applies to consumer products. When\\ncans; (2) Require that only low global warming potential refrigerants CARB adopts regulations for these reduction\\nbe used in new vehicular systems; (3) Adopt specifications for new measures, any products that the regulations apply to\\ncommercial refrigeration; (4) Add refrigerant leak tightness to the would comply with the measures.\\npass criteria for vehicular Inspection and Maintenance programs;\\n(5) Enforce federal ban on releasing HFCs.'], ['Transportation Refrigeration Units (TRU), Off-Road Electrification, Not applicable\\nPort Electrification: Strategies to reduce emissions from TRUs,\\nincrease off-road electrification, and increase use of shore-side/port\\nelectrification.']]]\n",
      "[[['Strategy Project Design/Mitigation to Comply with Strategy'], ['Manure Management: Reduction of volatile organic compounds from Not applicable\\nconfined animal facilities through implementation of control options.'], ['Alternative Fuels – Biodiesel Blends: CARB would develop regulations Not applicable\\nto require the use of one to four percent biodiesel displacement of\\nCalifornia diesel fuel.'], ['Alternative Fuels – Ethanol: Increased use of ethanol fuel. Not applicable'], ['Achieve 50 percent Statewide Recycling Goal: Achieving the State’s The project would comply with the 1989 California\\n50 percent waste diversion mandate as established by the Integrated Integrated Waste Management Act and the California\\nWaste Management Act of 1989, (AB 939, Sher, Chapter 1095, Solid Waste Reuse and Recycling Access Act of 1991,\\nStatutes of 1989), will reduce climate change emissions associated as amended.\\nwith energy intensive material extraction and production as well as\\nmethane emission from landfills. A diversion rate of 48 percent has\\nbeen achieved on a Statewide basis. Therefore, a two percent\\nadditional reduction is needed.'], ['Zero Waste – High Recycling: Additional recycling beyond the The project would comply with the 1989 California\\nState’s 50 percent recycling goal. Integrated Waste Management Act and the California\\nSolid Waste Reuse and Recycling Access Act of 1991, as\\namended.'], ['Landfill Methane Capture: Install direct gas use or electricity projects Not applicable\\nat landfills to capture and use emitted methane.'], ['Urban Forestry: A new Statewide goal of planting five million trees in Not applicable\\nurban areas by 2020 would be achieved through the expansion of local\\nurban forestry programs.'], ['Afforestation/Reforestation Projects: Reforestation projects focus on Not applicable\\nrestoring native tree cover on lands that were previously forested and\\nare now covered with other vegetative types.'], ['Water Use Efficiency: 19 percent of all electricity, 30 percent of all Not applicable\\nnatural gas, and 88 million gallons of diesel are used to convey, treat,\\ndistribute and use water and wastewater. Increasing the efficiency of\\nwater transport and reducing water use would reduce GHG\\nemissions.'], ['Building Energy Efficiency Standards in Place and in Progress: The project would be consistent with State law.\\nPublic Resources Code 25402 authorizes the CEC to adopt and\\nperiodically update its building energy efficiency standards (that\\napply to newly constructed buildings and additions to and alterations\\nto existing buildings).'], ['Appliance Energy Efficiency Standards in Place and in Progress: Public The project would be consistent with State law.\\nResources Code 25402 authorizes the Energy Commission to adopt and\\nperiodically update its appliance energy efficiency standards (that apply\\nto devices and equipment using energy that are sold or offered for sale in\\nCalifornia).'], ['Cement Manufacturing: Cost-effective reductions to reduce energy Not applicable\\nconsumption and to lower carbon dioxide emissions in the cement\\nindustry.'], ['Smart Land Use and Intelligent Transportation Systems (ITS): Smart Not applicable\\nland use strategies encourage jobs/housing proximity, promote\\ntransit-oriented development, and encourage high-density\\nresidential/commercial development along transit corridors. ITS is\\nthe application of advanced technology systems and management\\nstrategies to improve operational efficiency of transportation systems\\nand movement of people, goods and services.']]]\n",
      "[[['Strategy Project Design/Mitigation to Comply with Strategy'], ['Smart land use, demand management, ITS, and value pricing are Not applicable\\ncritical elements for improving mobility and transportation\\nefficiency. Specific strategies include: promoting jobs/housing\\nproximity and transit-oriented development; encouraging high\\ndensity residential/commercial development along transit/rail\\ncorridor; valuing and congestion pricing; implementing intelligent\\ntransportation systems, traveler information/traffic control, incident\\nmanagement; accelerating the development of broadband\\ninfrastructure; and comprehensive, integrated, multimodal/intermodal\\ntransportation planning.'], ['Enteric Fermentation: Cattle emit methane from digestion processes. Not applicable\\nChanges in diet could result in a reduction in emissions.'], ['Green Buildings Initiative: Green Building Executive Order, S-20-04 Not applicable\\n(CA 2005), sets a goal of reducing energy use in public and private\\nbuildings by 20 percent by the year 2015, as compared with 2003 levels.\\nConsistent with Mitigation.'], ['California Solar Initiative: Installation of 1 million solar roofs or an The project would result in an electric power\\nequivalent 3,000 megawatts (MW) by 2017 on homes and businesses; generating capacity of approximately 530 MW.\\nincreased use of solar thermal systems to offset the increasing Therefore, the project would help support and not\\ndemand for natural gas; use of advanced metering in solar conflict with this strategy.\\napplications; and creation of a funding source that can provide\\nrebates over 10 years through a declining incentive schedule.']], [['ID #', 'Sector', 'Strategy Name'], ['T-1', 'Transportation', 'Advanced Clean Cars'], ['T-2', 'Transportation', 'Low Carbon Fuel Standard'], ['E-3', 'Electricity and Natural Gas', 'Renewables Portfolio Standard'], ['E-4', 'Electricity and Natural Gas', 'Million Solar Roofs'], ['W-1', 'Water', 'Water Use Efficiency'], ['CR-1', 'Electricity and Natural Gas', 'Energy Efficiency'], ['H-6', 'High GWP Gases', 'SF6 Leak Reduction Gas Insulated Switchgear'], ['Source: CARB 2014c', None, None]]]\n",
      "[]\n",
      "[[['Adopted Plan, Policy, or\\nRegulation', None, 'Consistency\\nDetermination', 'Project Consistency', None], ['', 'Federal', None, None, ''], ['40 CFR Part 98. Mandatory\\nReporting of Greenhouse Gases\\nRule.', None, 'Not applicable', 'The project would have direct CO2e operating emissions that are well\\nbelow the 25,000 ton/year rule trigger.', None], ['40 CFR Part 52. Proposed\\nPrevention of Significant\\nDeterioration and Title V\\nGreenhouse Gas Tailoring Rule.', None, 'Not applicable', 'The project would have direct CO2e operating emissions that are well\\nbelow the 75,000 ton/year rule trigger.', None], ['', 'State', None, None, ''], ['SB 1368. EPS Standard.', None, 'Consistent', 'The project, as a renewable energy generation facility, is determined\\nby rule to comply with the GHG Emission Performance Standard\\nrequirements of SB 1368.', None], ['SB 351. 50% RPS Standard.', None, 'Indirectly\\nconsistent', 'This regulation is applicable to utilities, not generating facilities, but\\nthe energy from this project would help enable the utility buying the\\nproject’s generation to comply with this legislation.', None], ['SB 100. 60% Standard by 2030\\nand 100% by 2045', None, 'Indirectly\\nconsistent', 'This regulation is applicable to utilities, not generating facilities, but\\nthe energy from this project would help enable the utility buying the\\nproject’s generation to comply with this legislation.', None], ['AB 32. Annual GHG Emissions\\nReporting', None, 'Not applicable', 'The project, as a solar energy generation project, is exempt from the\\nmandatory GHG emission reporting requirements for electricity\\ngenerating facilities as currently required by the CARB for\\ncompliance with the California Global Warming Solutions Act of\\n2006 (AB 32 Núñez, Statutes of 2006, Chapter 488, Health and Safety\\nCode Sections 38500 et seq.).', None], ['', 'Local', None, None, ''], ['Kern County General Plan – Air\\nQuality Element Policies Goals\\nand Implementation Measures', None, 'Consistent', 'Air Quality Mitigation Measures would ensure that the project is\\nconsistent with the Kern County General Plan Air Quality Element\\nPolicies, Goals, and Implementation Measures that will indirectly\\nreduce GHG emissions by reducing fossil fuel combustion.', None]]]\n",
      "[]\n",
      "[]\n",
      "[]\n",
      "[]\n"
     ]
    }
   ],
   "source": [
    "ghg = \"\"\n",
    "with pdfplumber.open(path) as pdf:\n",
    "    \n",
    "    for page in pdf.pages:\n",
    "        text = page.extract_text()\n",
    "        if \"greenhouse gas emissions\" in text.lower():\n",
    "            section = [i.split()[1] for i in page.extract_text_simple().split(\"\\n\") if \"greenhouse gas emission\" in i.lower()][0]\n",
    "            section_start = [i.split()[-1] for i in page.extract_text_simple().split(\"\\n\") if \"greenhouse gas emission\" in i.lower()][0]\n",
    "            sections_end = str(round(float(section)+float(0.1),2)) + \"-1\"\n",
    "            break;\n",
    "\n",
    "    flag =0\n",
    "    for page in pdf.pages:\n",
    "            \n",
    "        if page.extract_words()!=[]:\n",
    "            if page.extract_words()[-1][\"text\"] == sections_end:\n",
    "                break\n",
    "            if (page.extract_words()!=[] and page.extract_words()[-1][\"text\"] == section_start) or flag:\n",
    "                print(page.extract_tables())\n",
    "                ghg += page.extract_text()\n",
    "                flag=1\n"
   ]
  },
  {
   "cell_type": "code",
   "execution_count": 19,
   "metadata": {},
   "outputs": [
    {
     "data": {
      "text/plain": [
       "12800"
      ]
     },
     "execution_count": 19,
     "metadata": {},
     "output_type": "execute_result"
    }
   ],
   "source": [
    "import anthropic\n",
    "\n",
    "client = anthropic.Anthropic(\n",
    "    # defaults to os.environ.get(\"ANTHROPIC_API_KEY\")\n",
    "    api_key=\"my_api_key\",\n",
    ")\n",
    "\n",
    "message = client.messages.create(\n",
    "    model=\"claude-3-opus-20240229\",\n",
    "    max_tokens=1000,\n",
    "    temperature=0.0,\n",
    "    system=\"Respond only in Yoda-speak.\",\n",
    "    messages=[\n",
    "        {\"role\": \"user\", \"content\": \"How are you today?\"}\n",
    "    ]\n",
    ")\n",
    "\n",
    "print(message.content)"
   ]
  },
  {
   "cell_type": "code",
   "execution_count": 33,
   "metadata": {},
   "outputs": [],
   "source": [
    "import anthropic\n",
    "import os\n",
    "\n",
    "client = anthropic.Anthropic()\n",
    "# print(os.environ.get(\"ANTHROPIC_API_KEY\"))"
   ]
  },
  {
   "cell_type": "code",
   "execution_count": 45,
   "metadata": {},
   "outputs": [],
   "source": [
    "message = client.messages.create(\n",
    "    model=\"claude-3-sonnet-20240229\",\n",
    "    max_tokens=1000,\n",
    "    temperature=0.0,\n",
    "    system=\"Using the below environment impact report for a Solar project, respond to the question like a policy expert.\",\n",
    "    messages=[\n",
    "        {\"role\": \"user\", \"content\": f\"Question:\\nSummarise the environmental impact in terms of green house gase emission of this project.\\n\\nContext:\\n{ghg}\"}\n",
    "    ]\n",
    ")"
   ]
  },
  {
   "cell_type": "code",
   "execution_count": 49,
   "metadata": {},
   "outputs": [
    {
     "name": "stdout",
     "output_type": "stream",
     "text": [
      "Here are the key points regarding greenhouse gas emissions and climate change impacts from the proposed Aratina Solar Project:\n",
      "\n",
      "- Construction and decommissioning of the project would generate an estimated 8,578 MTCO2e over a 15-month construction period. Amortized over the 30-year project lifetime, this amounts to 572 MTCO2e per year.\n",
      "\n",
      "- Annual operational emissions are estimated at 257 MTCO2e per year, primarily from worker commutes. Adding the amortized construction emissions, total annual emissions would be 829 MTCO2e.\n",
      "\n",
      "- However, the project's generation of 530 MW of renewable solar electricity is estimated to displace 318,611 MTCO2e per year from fossil fuel-based power generation. \n",
      "\n",
      "- Therefore, the net annual GHG emissions impact would be a reduction of 317,782 MTCO2e per year.\n",
      "\n",
      "- The project would be consistent with California's Climate Change Scoping Plan, Renewables Portfolio Standard, and other GHG reduction plans and policies by providing renewable energy generation.\n",
      "\n",
      "- The project's GHG emissions would fall below regional regulatory thresholds set by the Eastern Kern Air Pollution Control District.\n",
      "\n",
      "- Cumulatively, the project and other renewable energy projects are essential to achieving California's renewable energy and GHG reduction goals under AB 32, SB 32 and SB 100.\n",
      "\n",
      "In summary, while the project would generate some GHG emissions during construction and operation, it would result in a substantial net reduction in GHG emissions by displacing fossil fuel-based electricity generation. The impact analysis concludes the project's GHG emissions impacts would be less than significant.\n"
     ]
    }
   ],
   "source": [
    "print(message.content[0].text)\n"
   ]
  },
  {
   "cell_type": "code",
   "execution_count": 47,
   "metadata": {},
   "outputs": [],
   "source": [
    "x=message.content[0]"
   ]
  },
  {
   "cell_type": "code",
   "execution_count": 48,
   "metadata": {},
   "outputs": [
    {
     "data": {
      "text/plain": [
       "\"Here are the key points regarding greenhouse gas emissions and climate change impacts from the proposed Aratina Solar Project:\\n\\n- Construction and decommissioning of the project would generate an estimated 8,578 MTCO2e over a 15-month construction period. Amortized over the 30-year project lifetime, this amounts to 572 MTCO2e per year.\\n\\n- Annual operational emissions are estimated at 257 MTCO2e per year, primarily from worker commutes. Adding the amortized construction emissions, total annual emissions would be 829 MTCO2e.\\n\\n- However, the project's generation of 530 MW of renewable solar electricity is estimated to displace 318,611 MTCO2e per year from fossil fuel-based power generation. \\n\\n- Therefore, the net annual GHG emissions impact would be a reduction of 317,782 MTCO2e per year.\\n\\n- The project would be consistent with California's Climate Change Scoping Plan, Renewables Portfolio Standard, and other GHG reduction plans and policies by providing renewable energy generation.\\n\\n- The project's GHG emissions would fall below regional regulatory thresholds set by the Eastern Kern Air Pollution Control District.\\n\\n- Cumulatively, the project and other renewable energy projects are essential to achieving California's renewable energy and GHG reduction goals under AB 32, SB 32 and SB 100.\\n\\nIn summary, while the project would generate some GHG emissions during construction and operation, it would result in a substantial net reduction in GHG emissions by displacing fossil fuel-based electricity generation. The impact analysis concludes the project's GHG emissions impacts would be less than significant.\""
      ]
     },
     "execution_count": 48,
     "metadata": {},
     "output_type": "execute_result"
    }
   ],
   "source": [
    "x.text"
   ]
  },
  {
   "cell_type": "code",
   "execution_count": 1,
   "metadata": {},
   "outputs": [
    {
     "name": "stderr",
     "output_type": "stream",
     "text": [
      "/Users/ishitadaga/Downloads/booksum/venv/lib/python3.9/site-packages/urllib3/__init__.py:34: NotOpenSSLWarning: urllib3 v2.0 only supports OpenSSL 1.1.1+, currently the 'ssl' module is compiled with 'LibreSSL 2.8.3'. See: https://github.com/urllib3/urllib3/issues/3020\n",
      "  warnings.warn(\n"
     ]
    }
   ],
   "source": [
    "from transformers import AutoModelForCausalLM, AutoTokenizer, pipeline\n"
   ]
  },
  {
   "cell_type": "code",
   "execution_count": 25,
   "metadata": {},
   "outputs": [
    {
     "name": "stderr",
     "output_type": "stream",
     "text": [
      "llama_model_loader: loaded meta data with 24 key-value pairs and 291 tensors from /Users/ishitadaga/Downloads/Capstone Climabtebase/mistral-7b-instruct-v0.2.Q5_K_M.gguf (version GGUF V3 (latest))\n",
      "llama_model_loader: Dumping metadata keys/values. Note: KV overrides do not apply in this output.\n",
      "llama_model_loader: - kv   0:                       general.architecture str              = llama\n",
      "llama_model_loader: - kv   1:                               general.name str              = mistralai_mistral-7b-instruct-v0.2\n",
      "llama_model_loader: - kv   2:                       llama.context_length u32              = 32768\n",
      "llama_model_loader: - kv   3:                     llama.embedding_length u32              = 4096\n",
      "llama_model_loader: - kv   4:                          llama.block_count u32              = 32\n",
      "llama_model_loader: - kv   5:                  llama.feed_forward_length u32              = 14336\n",
      "llama_model_loader: - kv   6:                 llama.rope.dimension_count u32              = 128\n",
      "llama_model_loader: - kv   7:                 llama.attention.head_count u32              = 32\n",
      "llama_model_loader: - kv   8:              llama.attention.head_count_kv u32              = 8\n",
      "llama_model_loader: - kv   9:     llama.attention.layer_norm_rms_epsilon f32              = 0.000010\n",
      "llama_model_loader: - kv  10:                       llama.rope.freq_base f32              = 1000000.000000\n",
      "llama_model_loader: - kv  11:                          general.file_type u32              = 17\n",
      "llama_model_loader: - kv  12:                       tokenizer.ggml.model str              = llama\n",
      "llama_model_loader: - kv  13:                      tokenizer.ggml.tokens arr[str,32000]   = [\"<unk>\", \"<s>\", \"</s>\", \"<0x00>\", \"<...\n",
      "llama_model_loader: - kv  14:                      tokenizer.ggml.scores arr[f32,32000]   = [0.000000, 0.000000, 0.000000, 0.0000...\n",
      "llama_model_loader: - kv  15:                  tokenizer.ggml.token_type arr[i32,32000]   = [2, 3, 3, 6, 6, 6, 6, 6, 6, 6, 6, 6, ...\n",
      "llama_model_loader: - kv  16:                tokenizer.ggml.bos_token_id u32              = 1\n",
      "llama_model_loader: - kv  17:                tokenizer.ggml.eos_token_id u32              = 2\n",
      "llama_model_loader: - kv  18:            tokenizer.ggml.unknown_token_id u32              = 0\n",
      "llama_model_loader: - kv  19:            tokenizer.ggml.padding_token_id u32              = 0\n",
      "llama_model_loader: - kv  20:               tokenizer.ggml.add_bos_token bool             = true\n",
      "llama_model_loader: - kv  21:               tokenizer.ggml.add_eos_token bool             = false\n",
      "llama_model_loader: - kv  22:                    tokenizer.chat_template str              = {{ bos_token }}{% for message in mess...\n",
      "llama_model_loader: - kv  23:               general.quantization_version u32              = 2\n",
      "llama_model_loader: - type  f32:   65 tensors\n",
      "llama_model_loader: - type q5_K:  193 tensors\n",
      "llama_model_loader: - type q6_K:   33 tensors\n",
      "llm_load_vocab: special tokens definition check successful ( 259/32000 ).\n",
      "llm_load_print_meta: format           = GGUF V3 (latest)\n",
      "llm_load_print_meta: arch             = llama\n",
      "llm_load_print_meta: vocab type       = SPM\n",
      "llm_load_print_meta: n_vocab          = 32000\n",
      "llm_load_print_meta: n_merges         = 0\n",
      "llm_load_print_meta: n_ctx_train      = 32768\n",
      "llm_load_print_meta: n_embd           = 4096\n",
      "llm_load_print_meta: n_head           = 32\n",
      "llm_load_print_meta: n_head_kv        = 8\n",
      "llm_load_print_meta: n_layer          = 32\n",
      "llm_load_print_meta: n_rot            = 128\n",
      "llm_load_print_meta: n_embd_head_k    = 128\n",
      "llm_load_print_meta: n_embd_head_v    = 128\n",
      "llm_load_print_meta: n_gqa            = 4\n",
      "llm_load_print_meta: n_embd_k_gqa     = 1024\n",
      "llm_load_print_meta: n_embd_v_gqa     = 1024\n",
      "llm_load_print_meta: f_norm_eps       = 0.0e+00\n",
      "llm_load_print_meta: f_norm_rms_eps   = 1.0e-05\n",
      "llm_load_print_meta: f_clamp_kqv      = 0.0e+00\n",
      "llm_load_print_meta: f_max_alibi_bias = 0.0e+00\n",
      "llm_load_print_meta: f_logit_scale    = 0.0e+00\n",
      "llm_load_print_meta: n_ff             = 14336\n",
      "llm_load_print_meta: n_expert         = 0\n",
      "llm_load_print_meta: n_expert_used    = 0\n",
      "llm_load_print_meta: causal attn      = 1\n",
      "llm_load_print_meta: pooling type     = 0\n",
      "llm_load_print_meta: rope type        = 0\n",
      "llm_load_print_meta: rope scaling     = linear\n",
      "llm_load_print_meta: freq_base_train  = 1000000.0\n",
      "llm_load_print_meta: freq_scale_train = 1\n",
      "llm_load_print_meta: n_yarn_orig_ctx  = 32768\n",
      "llm_load_print_meta: rope_finetuned   = unknown\n",
      "llm_load_print_meta: ssm_d_conv       = 0\n",
      "llm_load_print_meta: ssm_d_inner      = 0\n",
      "llm_load_print_meta: ssm_d_state      = 0\n",
      "llm_load_print_meta: ssm_dt_rank      = 0\n",
      "llm_load_print_meta: model type       = 8B\n",
      "llm_load_print_meta: model ftype      = Q5_K - Medium\n",
      "llm_load_print_meta: model params     = 7.24 B\n",
      "llm_load_print_meta: model size       = 4.78 GiB (5.67 BPW) \n",
      "llm_load_print_meta: general.name     = mistralai_mistral-7b-instruct-v0.2\n",
      "llm_load_print_meta: BOS token        = 1 '<s>'\n",
      "llm_load_print_meta: EOS token        = 2 '</s>'\n",
      "llm_load_print_meta: UNK token        = 0 '<unk>'\n",
      "llm_load_print_meta: PAD token        = 0 '<unk>'\n",
      "llm_load_print_meta: LF token         = 13 '<0x0A>'\n",
      "llm_load_tensors: ggml ctx size =    0.15 MiB\n",
      "llm_load_tensors: offloading 0 repeating layers to GPU\n",
      "llm_load_tensors: offloaded 0/33 layers to GPU\n",
      "llm_load_tensors:        CPU buffer size =  4892.99 MiB\n",
      "...................................................................................................\n",
      "llama_new_context_with_model: n_ctx      = 24480\n",
      "llama_new_context_with_model: n_batch    = 512\n",
      "llama_new_context_with_model: n_ubatch   = 512\n",
      "llama_new_context_with_model: freq_base  = 1000000.0\n",
      "llama_new_context_with_model: freq_scale = 1\n",
      "llama_kv_cache_init:        CPU KV buffer size =  3060.00 MiB\n",
      "llama_new_context_with_model: KV self size  = 3060.00 MiB, K (f16): 1530.00 MiB, V (f16): 1530.00 MiB\n",
      "llama_new_context_with_model:        CPU  output buffer size =     0.12 MiB\n",
      "llama_new_context_with_model:        CPU compute buffer size =  1609.82 MiB\n",
      "llama_new_context_with_model: graph nodes  = 1030\n",
      "llama_new_context_with_model: graph splits = 1\n",
      "AVX = 0 | AVX_VNNI = 0 | AVX2 = 0 | AVX512 = 0 | AVX512_VBMI = 0 | AVX512_VNNI = 0 | FMA = 0 | NEON = 1 | ARM_FMA = 1 | F16C = 0 | FP16_VA = 1 | WASM_SIMD = 0 | BLAS = 1 | SSE3 = 0 | SSSE3 = 0 | VSX = 0 | MATMUL_INT8 = 0 | \n",
      "Model metadata: {'general.quantization_version': '2', 'tokenizer.chat_template': \"{{ bos_token }}{% for message in messages %}{% if (message['role'] == 'user') != (loop.index0 % 2 == 0) %}{{ raise_exception('Conversation roles must alternate user/assistant/user/assistant/...') }}{% endif %}{% if message['role'] == 'user' %}{{ '[INST] ' + message['content'] + ' [/INST]' }}{% elif message['role'] == 'assistant' %}{{ message['content'] + eos_token}}{% else %}{{ raise_exception('Only user and assistant roles are supported!') }}{% endif %}{% endfor %}\", 'tokenizer.ggml.add_eos_token': 'false', 'tokenizer.ggml.add_bos_token': 'true', 'tokenizer.ggml.padding_token_id': '0', 'tokenizer.ggml.unknown_token_id': '0', 'tokenizer.ggml.eos_token_id': '2', 'tokenizer.ggml.bos_token_id': '1', 'tokenizer.ggml.model': 'llama', 'llama.attention.head_count_kv': '8', 'llama.context_length': '32768', 'llama.attention.head_count': '32', 'llama.rope.freq_base': '1000000.000000', 'llama.rope.dimension_count': '128', 'general.file_type': '17', 'llama.feed_forward_length': '14336', 'llama.embedding_length': '4096', 'llama.block_count': '32', 'general.architecture': 'llama', 'llama.attention.layer_norm_rms_epsilon': '0.000010', 'general.name': 'mistralai_mistral-7b-instruct-v0.2'}\n",
      "Guessed chat format: mistral-instruct\n"
     ]
    }
   ],
   "source": [
    "model_name_or_path = \"\"\n",
    "from llama_cpp import Llama\n",
    "\n",
    "# tokenizer_2 = AutoTokenizer.from_pretrained(model_name_or_path, use_fast=True)\n",
    "\n",
    "# # # removed cude here:                                              \n",
    "# model_2 = AutoModelForCausalLM.from_pretrained(\"/Users/ishitadaga/Downloads/Capstone Climabtebase/mistral-7b-instruct-v0.2.Q5_K_M.gguf\",\n",
    "#                                                 device_map=\"auto\",\n",
    "#                                              trust_remote_code=False,\n",
    "#                                              model_type=\"mistral\",\n",
    "#                                              # revision=\"mistral-7b-instruct-v0.1.Q4_K_M.gguf\"\n",
    "#                                              )\n",
    "\n",
    "model = Llama(model_path=\"/Users/ishitadaga/Downloads/Capstone Climabtebase/mistral-7b-instruct-v0.2.Q5_K_M.gguf\",n_ctx=24465 )\n"
   ]
  },
  {
   "cell_type": "code",
   "execution_count": 26,
   "metadata": {},
   "outputs": [
    {
     "ename": "IndexError",
     "evalue": "index 24465 is out of bounds for axis 0 with size 24465",
     "output_type": "error",
     "traceback": [
      "\u001b[0;31m---------------------------------------------------------------------------\u001b[0m",
      "\u001b[0;31mIndexError\u001b[0m                                Traceback (most recent call last)",
      "\u001b[0;32m<ipython-input-26-1d79ef671ce6>\u001b[0m in \u001b[0;36m<module>\u001b[0;34m\u001b[0m\n\u001b[1;32m      8\u001b[0m \u001b[0;34m\u001b[0m\u001b[0m\n\u001b[1;32m      9\u001b[0m \u001b[0;31m# Run the model\u001b[0m\u001b[0;34m\u001b[0m\u001b[0;34m\u001b[0m\u001b[0;34m\u001b[0m\u001b[0m\n\u001b[0;32m---> 10\u001b[0;31m \u001b[0moutput\u001b[0m \u001b[0;34m=\u001b[0m \u001b[0mmodel\u001b[0m\u001b[0;34m(\u001b[0m\u001b[0mprompt\u001b[0m\u001b[0;34m,\u001b[0m \u001b[0mmax_tokens\u001b[0m\u001b[0;34m=\u001b[0m\u001b[0mmax_tokens\u001b[0m\u001b[0;34m,\u001b[0m \u001b[0mecho\u001b[0m\u001b[0;34m=\u001b[0m\u001b[0;32mTrue\u001b[0m\u001b[0;34m)\u001b[0m\u001b[0;34m\u001b[0m\u001b[0;34m\u001b[0m\u001b[0m\n\u001b[0m",
      "\u001b[0;32m~/Downloads/booksum/venv/lib/python3.9/site-packages/llama_cpp/llama.py\u001b[0m in \u001b[0;36m__call__\u001b[0;34m(self, prompt, suffix, max_tokens, temperature, top_p, min_p, typical_p, logprobs, echo, stop, frequency_penalty, presence_penalty, repeat_penalty, top_k, stream, seed, tfs_z, mirostat_mode, mirostat_tau, mirostat_eta, model, stopping_criteria, logits_processor, grammar, logit_bias)\u001b[0m\n\u001b[1;32m   1559\u001b[0m             \u001b[0mResponse\u001b[0m \u001b[0mobject\u001b[0m \u001b[0mcontaining\u001b[0m \u001b[0mthe\u001b[0m \u001b[0mgenerated\u001b[0m \u001b[0mtext\u001b[0m\u001b[0;34m.\u001b[0m\u001b[0;34m\u001b[0m\u001b[0;34m\u001b[0m\u001b[0m\n\u001b[1;32m   1560\u001b[0m         \"\"\"\n\u001b[0;32m-> 1561\u001b[0;31m         return self.create_completion(\n\u001b[0m\u001b[1;32m   1562\u001b[0m             \u001b[0mprompt\u001b[0m\u001b[0;34m=\u001b[0m\u001b[0mprompt\u001b[0m\u001b[0;34m,\u001b[0m\u001b[0;34m\u001b[0m\u001b[0;34m\u001b[0m\u001b[0m\n\u001b[1;32m   1563\u001b[0m             \u001b[0msuffix\u001b[0m\u001b[0;34m=\u001b[0m\u001b[0msuffix\u001b[0m\u001b[0;34m,\u001b[0m\u001b[0;34m\u001b[0m\u001b[0;34m\u001b[0m\u001b[0m\n",
      "\u001b[0;32m~/Downloads/booksum/venv/lib/python3.9/site-packages/llama_cpp/llama.py\u001b[0m in \u001b[0;36mcreate_completion\u001b[0;34m(self, prompt, suffix, max_tokens, temperature, top_p, min_p, typical_p, logprobs, echo, stop, frequency_penalty, presence_penalty, repeat_penalty, top_k, stream, seed, tfs_z, mirostat_mode, mirostat_tau, mirostat_eta, model, stopping_criteria, logits_processor, grammar, logit_bias)\u001b[0m\n\u001b[1;32m   1492\u001b[0m             \u001b[0mchunks\u001b[0m\u001b[0;34m:\u001b[0m \u001b[0mIterator\u001b[0m\u001b[0;34m[\u001b[0m\u001b[0mCreateCompletionStreamResponse\u001b[0m\u001b[0;34m]\u001b[0m \u001b[0;34m=\u001b[0m \u001b[0mcompletion_or_chunks\u001b[0m\u001b[0;34m\u001b[0m\u001b[0;34m\u001b[0m\u001b[0m\n\u001b[1;32m   1493\u001b[0m             \u001b[0;32mreturn\u001b[0m \u001b[0mchunks\u001b[0m\u001b[0;34m\u001b[0m\u001b[0;34m\u001b[0m\u001b[0m\n\u001b[0;32m-> 1494\u001b[0;31m         \u001b[0mcompletion\u001b[0m\u001b[0;34m:\u001b[0m \u001b[0mCompletion\u001b[0m \u001b[0;34m=\u001b[0m \u001b[0mnext\u001b[0m\u001b[0;34m(\u001b[0m\u001b[0mcompletion_or_chunks\u001b[0m\u001b[0;34m)\u001b[0m  \u001b[0;31m# type: ignore\u001b[0m\u001b[0;34m\u001b[0m\u001b[0;34m\u001b[0m\u001b[0m\n\u001b[0m\u001b[1;32m   1495\u001b[0m         \u001b[0;32mreturn\u001b[0m \u001b[0mcompletion\u001b[0m\u001b[0;34m\u001b[0m\u001b[0;34m\u001b[0m\u001b[0m\n\u001b[1;32m   1496\u001b[0m \u001b[0;34m\u001b[0m\u001b[0m\n",
      "\u001b[0;32m~/Downloads/booksum/venv/lib/python3.9/site-packages/llama_cpp/llama.py\u001b[0m in \u001b[0;36m_create_completion\u001b[0;34m(self, prompt, suffix, max_tokens, temperature, top_p, min_p, typical_p, logprobs, echo, stop, frequency_penalty, presence_penalty, repeat_penalty, top_k, stream, seed, tfs_z, mirostat_mode, mirostat_tau, mirostat_eta, model, stopping_criteria, logits_processor, grammar, logit_bias)\u001b[0m\n\u001b[1;32m   1017\u001b[0m         \u001b[0mfinish_reason\u001b[0m \u001b[0;34m=\u001b[0m \u001b[0;34m\"length\"\u001b[0m\u001b[0;34m\u001b[0m\u001b[0;34m\u001b[0m\u001b[0m\n\u001b[1;32m   1018\u001b[0m         \u001b[0mmultibyte_fix\u001b[0m \u001b[0;34m=\u001b[0m \u001b[0;36m0\u001b[0m\u001b[0;34m\u001b[0m\u001b[0;34m\u001b[0m\u001b[0m\n\u001b[0;32m-> 1019\u001b[0;31m         for token in self.generate(\n\u001b[0m\u001b[1;32m   1020\u001b[0m             \u001b[0mprompt_tokens\u001b[0m\u001b[0;34m,\u001b[0m\u001b[0;34m\u001b[0m\u001b[0;34m\u001b[0m\u001b[0m\n\u001b[1;32m   1021\u001b[0m             \u001b[0mtop_k\u001b[0m\u001b[0;34m=\u001b[0m\u001b[0mtop_k\u001b[0m\u001b[0;34m,\u001b[0m\u001b[0;34m\u001b[0m\u001b[0;34m\u001b[0m\u001b[0m\n",
      "\u001b[0;32m~/Downloads/booksum/venv/lib/python3.9/site-packages/llama_cpp/llama.py\u001b[0m in \u001b[0;36mgenerate\u001b[0;34m(self, tokens, top_k, top_p, min_p, typical_p, temp, repeat_penalty, reset, frequency_penalty, presence_penalty, tfs_z, mirostat_mode, mirostat_tau, mirostat_eta, penalize_nl, logits_processor, stopping_criteria, grammar)\u001b[0m\n\u001b[1;32m    696\u001b[0m         \u001b[0;31m# Eval and sample\u001b[0m\u001b[0;34m\u001b[0m\u001b[0;34m\u001b[0m\u001b[0;34m\u001b[0m\u001b[0m\n\u001b[1;32m    697\u001b[0m         \u001b[0;32mwhile\u001b[0m \u001b[0;32mTrue\u001b[0m\u001b[0;34m:\u001b[0m\u001b[0;34m\u001b[0m\u001b[0;34m\u001b[0m\u001b[0m\n\u001b[0;32m--> 698\u001b[0;31m             \u001b[0mself\u001b[0m\u001b[0;34m.\u001b[0m\u001b[0meval\u001b[0m\u001b[0;34m(\u001b[0m\u001b[0mtokens\u001b[0m\u001b[0;34m)\u001b[0m\u001b[0;34m\u001b[0m\u001b[0;34m\u001b[0m\u001b[0m\n\u001b[0m\u001b[1;32m    699\u001b[0m             \u001b[0;32mwhile\u001b[0m \u001b[0msample_idx\u001b[0m \u001b[0;34m<\u001b[0m \u001b[0mself\u001b[0m\u001b[0;34m.\u001b[0m\u001b[0mn_tokens\u001b[0m\u001b[0;34m:\u001b[0m\u001b[0;34m\u001b[0m\u001b[0;34m\u001b[0m\u001b[0m\n\u001b[1;32m    700\u001b[0m                 token = self.sample(\n",
      "\u001b[0;32m~/Downloads/booksum/venv/lib/python3.9/site-packages/llama_cpp/llama.py\u001b[0m in \u001b[0;36meval\u001b[0;34m(self, tokens)\u001b[0m\n\u001b[1;32m    547\u001b[0m                 \u001b[0mcols\u001b[0m \u001b[0;34m=\u001b[0m \u001b[0mself\u001b[0m\u001b[0;34m.\u001b[0m\u001b[0m_n_vocab\u001b[0m\u001b[0;34m\u001b[0m\u001b[0;34m\u001b[0m\u001b[0m\n\u001b[1;32m    548\u001b[0m                 \u001b[0mlogits\u001b[0m \u001b[0;34m=\u001b[0m \u001b[0mself\u001b[0m\u001b[0;34m.\u001b[0m\u001b[0m_ctx\u001b[0m\u001b[0;34m.\u001b[0m\u001b[0mget_logits\u001b[0m\u001b[0;34m(\u001b[0m\u001b[0;34m)\u001b[0m\u001b[0;34m[\u001b[0m\u001b[0;34m:\u001b[0m \u001b[0mrows\u001b[0m \u001b[0;34m*\u001b[0m \u001b[0mcols\u001b[0m\u001b[0;34m]\u001b[0m\u001b[0;34m\u001b[0m\u001b[0;34m\u001b[0m\u001b[0m\n\u001b[0;32m--> 549\u001b[0;31m                 \u001b[0mself\u001b[0m\u001b[0;34m.\u001b[0m\u001b[0mscores\u001b[0m\u001b[0;34m[\u001b[0m\u001b[0mn_past\u001b[0m \u001b[0;34m+\u001b[0m \u001b[0mn_tokens\u001b[0m \u001b[0;34m-\u001b[0m \u001b[0;36m1\u001b[0m\u001b[0;34m,\u001b[0m \u001b[0;34m:\u001b[0m\u001b[0;34m]\u001b[0m\u001b[0;34m.\u001b[0m\u001b[0mreshape\u001b[0m\u001b[0;34m(\u001b[0m\u001b[0;34m-\u001b[0m\u001b[0;36m1\u001b[0m\u001b[0;34m)\u001b[0m\u001b[0;34m[\u001b[0m\u001b[0;34m:\u001b[0m \u001b[0;34m:\u001b[0m\u001b[0;34m]\u001b[0m \u001b[0;34m=\u001b[0m \u001b[0mlogits\u001b[0m\u001b[0;34m\u001b[0m\u001b[0;34m\u001b[0m\u001b[0m\n\u001b[0m\u001b[1;32m    550\u001b[0m             \u001b[0;31m# Update n_tokens\u001b[0m\u001b[0;34m\u001b[0m\u001b[0;34m\u001b[0m\u001b[0;34m\u001b[0m\u001b[0m\n\u001b[1;32m    551\u001b[0m             \u001b[0mself\u001b[0m\u001b[0;34m.\u001b[0m\u001b[0mn_tokens\u001b[0m \u001b[0;34m+=\u001b[0m \u001b[0mn_tokens\u001b[0m\u001b[0;34m\u001b[0m\u001b[0;34m\u001b[0m\u001b[0m\n",
      "\u001b[0;31mIndexError\u001b[0m: index 24465 is out of bounds for axis 0 with size 24465"
     ]
    }
   ],
   "source": [
    "prompt = f\"\"\"<s>[INST] <<SYS>>\n",
    "Using the below environment impact report for a Solar project, respond to the question like a policy expert.\n",
    "<</SYS>>\n",
    "f\"Question:\\Given the environmental impact report, what is the total annual green house gas emission of the project.\\n\\nContext:\\n{ghg}[/INST]\"\"\"\n",
    "\n",
    "# Model parameters\n",
    "max_tokens = 2\n",
    "\n",
    "# Run the model\n",
    "output = model(prompt, max_tokens=max_tokens, echo=True)"
   ]
  },
  {
   "cell_type": "code",
   "execution_count": null,
   "metadata": {},
   "outputs": [],
   "source": [
    "output"
   ]
  },
  {
   "cell_type": "code",
   "execution_count": 3,
   "metadata": {},
   "outputs": [
    {
     "name": "stderr",
     "output_type": "stream",
     "text": [
      "This function will be deprecated in a future release and `unstructured` will simply use the DEFAULT_MODEL from `unstructured_inference.model.base` to set default model name\n"
     ]
    }
   ],
   "source": [
    "from unstructured.partition.auto import partition\n",
    "elements = partition(path)"
   ]
  },
  {
   "cell_type": "code",
   "execution_count": null,
   "metadata": {},
   "outputs": [],
   "source": []
  }
 ],
 "metadata": {
  "kernelspec": {
   "display_name": "venv",
   "language": "python",
   "name": "venv"
  },
  "language_info": {
   "codemirror_mode": {
    "name": "ipython",
    "version": 3
   },
   "file_extension": ".py",
   "mimetype": "text/x-python",
   "name": "python",
   "nbconvert_exporter": "python",
   "pygments_lexer": "ipython3",
   "version": "3.9.6"
  },
  "orig_nbformat": 4
 },
 "nbformat": 4,
 "nbformat_minor": 2
}
